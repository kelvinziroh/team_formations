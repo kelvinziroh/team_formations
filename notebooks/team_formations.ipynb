{
 "cells": [
  {
   "cell_type": "markdown",
   "id": "0b3533d6-ecb8-47b6-b26c-6ad2605ae283",
   "metadata": {},
   "source": [
    "# Gaussian Mixture Models (GMMs) Clustering for Team Formations"
   ]
  },
  {
   "cell_type": "markdown",
   "id": "aa07afda-55bb-420e-aaa4-e14217068763",
   "metadata": {},
   "source": [
    "In this notebook, we explore the use of Gaussian Mixture models to create homogeneous clusters of participants with similar attributes/features and then use a round-robin algorithm to form truly heterogeneous teams for a hackathon competition. The dataset has sensitive personal data like names and email addresses so we will mask this part of the data with fake generated ones using the `Faker` module."
   ]
  },
  {
   "cell_type": "code",
   "execution_count": 1,
   "id": "5048a199-a9cc-4d13-83b1-6a730a8b2bca",
   "metadata": {},
   "outputs": [],
   "source": [
    "# Import the dependencies\n",
    "# Vectorized operations\n",
    "import numpy as np\n",
    "import pandas as pd\n",
    "\n",
    "# Data manipulation\n",
    "from collections import defaultdict\n",
    "from faker import Faker\n",
    "import re\n",
    "import random\n",
    "\n",
    "# Data visualization\n",
    "import matplotlib.pyplot as plt\n",
    "import matplotlib.style as style\n",
    "style.use(\"fivethirtyeight\")\n",
    "\n",
    "# Machine learning\n",
    "from sklearn.preprocessing import OneHotEncoder\n",
    "from sklearn.mixture import GaussianMixture\n",
    "from sklearn.metrics import calinski_harabasz_score\n",
    "from sklearn.utils import shuffle"
   ]
  },
  {
   "cell_type": "markdown",
   "id": "139bb0da-b9f9-40ef-8d72-8f6830b4d06f",
   "metadata": {},
   "source": [
    "## Data Loading & Initial Inspection"
   ]
  },
  {
   "cell_type": "code",
   "execution_count": 2,
   "id": "846a8a82-efc7-4b1a-be47-83148cb1b059",
   "metadata": {},
   "outputs": [
    {
     "name": "stdout",
     "output_type": "stream",
     "text": [
      "<class 'pandas.core.frame.DataFrame'>\n",
      "RangeIndex: 408 entries, 0 to 407\n",
      "Data columns (total 8 columns):\n",
      " #   Column                                                                                                                     Non-Null Count  Dtype \n",
      "---  ------                                                                                                                     --------------  ----- \n",
      " 0   Timestamp                                                                                                                  408 non-null    object\n",
      " 1   Email address                                                                                                              408 non-null    object\n",
      " 2   First name                                                                                                                 408 non-null    object\n",
      " 3   Last name                                                                                                                  408 non-null    object\n",
      " 4   gender                                                                                                                     408 non-null    object\n",
      " 5   What course are you pursuing?                                                                                              408 non-null    object\n",
      " 6   Which cohort do you belong to?                                                                                             390 non-null    object\n",
      " 7   On a scale of  1 to 5 (1 being very unlikley and 5 being very likely), How likely are you to see this through to the end?  408 non-null    int64 \n",
      "dtypes: int64(1), object(7)\n",
      "memory usage: 25.6+ KB\n"
     ]
    }
   ],
   "source": [
    "original_df = pd.read_csv(\"../data/dh_responses.csv\")\n",
    "original_df.info()"
   ]
  },
  {
   "cell_type": "code",
   "execution_count": 3,
   "id": "2ce85cee-4fd6-4289-9d15-a2045d057c85",
   "metadata": {},
   "outputs": [
    {
     "data": {
      "text/plain": [
       "array(['Data Science', 'Data Analytics', 'Other', 'Data science'],\n",
       "      dtype=object)"
      ]
     },
     "execution_count": 3,
     "metadata": {},
     "output_type": "execute_result"
    }
   ],
   "source": [
    "original_df[\"What course are you pursuing?\"].unique()"
   ]
  },
  {
   "cell_type": "code",
   "execution_count": 4,
   "id": "dab797d8-933d-4cb4-8b04-387b9e3da4d4",
   "metadata": {},
   "outputs": [
    {
     "data": {
      "text/plain": [
       "(77,)"
      ]
     },
     "execution_count": 4,
     "metadata": {},
     "output_type": "execute_result"
    }
   ],
   "source": [
    "original_df[\"Which cohort do you belong to?\"].unique().shape"
   ]
  },
  {
   "cell_type": "code",
   "execution_count": 5,
   "id": "c198be59-0627-4fda-8f0f-d7bb398c0b1c",
   "metadata": {},
   "outputs": [
    {
     "data": {
      "text/plain": [
       "array(['Cohort 2', 'C5', 'Cohort 7', 'Cohort 3', 'cohort 6'], dtype=object)"
      ]
     },
     "execution_count": 5,
     "metadata": {},
     "output_type": "execute_result"
    }
   ],
   "source": [
    "original_df[\"Which cohort do you belong to?\"].unique()[:5]"
   ]
  },
  {
   "cell_type": "markdown",
   "id": "1fd973ce-51d4-4d5f-acc2-dcc669f152dc",
   "metadata": {},
   "source": [
    "The initial inspection reveals **400+** records of applicants for a hackathon competition each with **8** variables. We will take the steps below to clean and anonymise sensitive data:\n",
    "\n",
    "- Rename the columns of the original dataset.\n",
    "- Lower the case of the text in the `gender` and `course` features.\n",
    "- Use regular expressions to extract the cohort numbers to standardise the applicants' cohorts.\n",
    "- Adjust errornous `cohort`s for accurate analysis.\n",
    "- Get applicants' affiliation with the institution (ALX).\n",
    "- Anonymise personal data in the dataset"
   ]
  },
  {
   "cell_type": "markdown",
   "id": "c89f0640-4ec4-4013-9eab-9346e923963a",
   "metadata": {},
   "source": [
    "## Data Cleaning & Transformation"
   ]
  },
  {
   "cell_type": "code",
   "execution_count": 6,
   "id": "e018f47a-c7a2-446f-81e2-d43087ae82a3",
   "metadata": {},
   "outputs": [],
   "source": [
    "def extract_cohort(input_string):\n",
    "    \"\"\"Regex pattern to extract cohort numbers\"\"\"\n",
    "    pattern = re.compile(\n",
    "        r\"\\d+|alumni|completed|pathway|aice|just started|not (?:yet(?: enrolled)?|sure)|i haven't been allocated one yet|software engineering|i don't know|front end web development|i am new\",\n",
    "        re.IGNORECASE,\n",
    "    )\n",
    "\n",
    "    # match the regex pattern in the string\n",
    "    match = re.search(pattern, input_string)\n",
    "\n",
    "    if match:\n",
    "        if (\n",
    "            (match.group().lower() == \"alumni\")\n",
    "            or (match.group().lower() == \"completed\")\n",
    "            or (match.group().lower() == \"not yet\")\n",
    "            or (match.group().lower() == \"not sure\")\n",
    "            or (match.group().lower() == \"just started\")\n",
    "            or (match.group().lower() == \"i haven't been allocated one yet\")\n",
    "            or (match.group().lower() == \"pathway\")\n",
    "            or (match.group().lower() == \"aice\")\n",
    "            or (match.group().lower() == \"software engineering\")\n",
    "            or (match.group().lower() == \"i don't know\")\n",
    "            or (match.group().lower() == \"front end web development\")\n",
    "            or (match.group().lower() == \"i am new\")\n",
    "        ): # Generic patterns\n",
    "            return 0\n",
    "        elif match.group().lower() == \"not yet enrolled\":  # Very specific pattern\n",
    "            return np.NaN\n",
    "        else:\n",
    "            return int(match.group())\n",
    "    else:\n",
    "        return np.NaN"
   ]
  },
  {
   "cell_type": "code",
   "execution_count": 7,
   "id": "ad254b7d-538d-47d3-93ca-df05a33c3df0",
   "metadata": {},
   "outputs": [],
   "source": [
    "def clean_data(file_path):\n",
    "    \"\"\"Clean the dataset\"\"\"\n",
    "    # Import the data from the .csv file\n",
    "    df = pd.read_csv(file_path)  # \"../data/dh_responses.csv\"\n",
    "\n",
    "    # Rename the columns\n",
    "    df = df.rename(\n",
    "        columns={\n",
    "            \"What course are you pursuing?\": \"course\",\n",
    "            \"Which cohort do you belong to?\": \"cohort\",\n",
    "            \"On a scale of  1 to 5 (1 being very unlikley and 5 being very likely), How likely are you to see this through to the end?\": \"cc_index\", # confidence completion index on a scale of 1 to 5\n",
    "        }\n",
    "    )\n",
    "\n",
    "    # lower the case of text in gender and course columns\n",
    "    df[\"gender\"] = df[\"gender\"].str.lower()\n",
    "    df[\"course\"] = df[\"course\"].str.lower()\n",
    "\n",
    "    # Extract the cohort\n",
    "    df[\"cohort\"] = df[\"cohort\"].astype(str).str.strip().apply(extract_cohort)\n",
    "\n",
    "    # Adjust da and ds cohorts greater than (latest cohorts)\n",
    "    # latest ds cohort: 3\n",
    "    # latest da cohort: 8\n",
    "    df.loc[(df[\"course\"] == \"data science\") & (df[\"cohort\"] > 3), \"cohort\"] = 3\n",
    "    df.loc[(df[\"course\"] == \"data analytics\") & (df[\"cohort\"] > 8), \"cohort\"] = 8\n",
    "\n",
    "    # Add affiliation column to the dataframe\n",
    "    df[\"alx_affiliated\"] = df[\"cohort\"].apply(\n",
    "        lambda x: \"Affiliated\" if pd.notnull(x) else \"Not affiliated\"\n",
    "    )\n",
    "\n",
    "    return df"
   ]
  },
  {
   "cell_type": "code",
   "execution_count": 8,
   "id": "5868418a-9da1-48fd-a537-fc2130c9903f",
   "metadata": {},
   "outputs": [],
   "source": [
    "# Initialize Faker with a seed for reproducibility\n",
    "fake = Faker()\n",
    "Faker.seed(42)\n",
    "\n",
    "# Generate random first names taking gender into account\n",
    "def fake_first_name(gender):\n",
    "    if gender.lower() == \"male\":\n",
    "        return fake.first_name_male()\n",
    "    else:\n",
    "        return fake.first_name_female()\n",
    "\n",
    "# Generate random last names\n",
    "def fake_last_name():\n",
    "    return fake.last_name()\n",
    "\n",
    "# Generate random email addresses\n",
    "def fake_email_address(first_name, last_name):\n",
    "    # concatenate the first and last names\n",
    "    full_name = f\"{first_name.lower()}{last_name.lower()}\"\n",
    "    \n",
    "    # Concatenate string of random numbers\n",
    "    number_counts = random.choice([0, 2, 3, 4])\n",
    "    numbers = [str(random.choice(range(10))) for _ in range(number_counts)]\n",
    "    num_str = \"\".join(numbers)\n",
    "    local_part = f\"{full_name}{num_str}\"\n",
    "    \n",
    "    # Concatenate a random choice of domains to the local part\n",
    "    domains = [\"example.com\", \"institution.edu\", \"corporation.org\"]\n",
    "    email_address = f\"{local_part}@{random.choice(domains)}\"\n",
    "    \n",
    "    return email_address"
   ]
  },
  {
   "cell_type": "code",
   "execution_count": 9,
   "id": "f4ad6185-4084-4942-961c-0249e72a35de",
   "metadata": {},
   "outputs": [
    {
     "data": {
      "text/plain": [
       "(408, 9)"
      ]
     },
     "execution_count": 9,
     "metadata": {},
     "output_type": "execute_result"
    }
   ],
   "source": [
    "# Get the original file path\n",
    "orig_file_path = \"../data/dh_responses.csv\"\n",
    "\n",
    "# Clean the data\n",
    "clean_df = clean_data(orig_file_path)\n",
    "clean_df.shape"
   ]
  },
  {
   "cell_type": "code",
   "execution_count": 10,
   "id": "d48a0628-1654-4db6-a855-9c1d0e57fa15",
   "metadata": {},
   "outputs": [
    {
     "data": {
      "text/html": [
       "<div>\n",
       "<style scoped>\n",
       "    .dataframe tbody tr th:only-of-type {\n",
       "        vertical-align: middle;\n",
       "    }\n",
       "\n",
       "    .dataframe tbody tr th {\n",
       "        vertical-align: top;\n",
       "    }\n",
       "\n",
       "    .dataframe thead th {\n",
       "        text-align: right;\n",
       "    }\n",
       "</style>\n",
       "<table border=\"1\" class=\"dataframe\">\n",
       "  <thead>\n",
       "    <tr style=\"text-align: right;\">\n",
       "      <th></th>\n",
       "      <th>Timestamp</th>\n",
       "      <th>Email address</th>\n",
       "      <th>First name</th>\n",
       "      <th>Last name</th>\n",
       "      <th>gender</th>\n",
       "      <th>course</th>\n",
       "      <th>cohort</th>\n",
       "      <th>cc_index</th>\n",
       "      <th>alx_affiliated</th>\n",
       "    </tr>\n",
       "  </thead>\n",
       "  <tbody>\n",
       "    <tr>\n",
       "      <th>0</th>\n",
       "      <td>01/03/2025 19:11:33</td>\n",
       "      <td>markschultz700@example.com</td>\n",
       "      <td>Mark</td>\n",
       "      <td>Schultz</td>\n",
       "      <td>male</td>\n",
       "      <td>data science</td>\n",
       "      <td>2.0</td>\n",
       "      <td>5</td>\n",
       "      <td>Affiliated</td>\n",
       "    </tr>\n",
       "    <tr>\n",
       "      <th>1</th>\n",
       "      <td>01/03/2025 19:12:02</td>\n",
       "      <td>allisonrogers784@example.com</td>\n",
       "      <td>Allison</td>\n",
       "      <td>Rogers</td>\n",
       "      <td>female</td>\n",
       "      <td>data science</td>\n",
       "      <td>3.0</td>\n",
       "      <td>5</td>\n",
       "      <td>Affiliated</td>\n",
       "    </tr>\n",
       "    <tr>\n",
       "      <th>2</th>\n",
       "      <td>01/03/2025 19:12:03</td>\n",
       "      <td>denisecardenas@corporation.org</td>\n",
       "      <td>Denise</td>\n",
       "      <td>Cardenas</td>\n",
       "      <td>female</td>\n",
       "      <td>data analytics</td>\n",
       "      <td>7.0</td>\n",
       "      <td>5</td>\n",
       "      <td>Affiliated</td>\n",
       "    </tr>\n",
       "    <tr>\n",
       "      <th>3</th>\n",
       "      <td>01/03/2025 19:12:05</td>\n",
       "      <td>danielpotter886@corporation.org</td>\n",
       "      <td>Daniel</td>\n",
       "      <td>Potter</td>\n",
       "      <td>male</td>\n",
       "      <td>data science</td>\n",
       "      <td>2.0</td>\n",
       "      <td>5</td>\n",
       "      <td>Affiliated</td>\n",
       "    </tr>\n",
       "    <tr>\n",
       "      <th>4</th>\n",
       "      <td>01/03/2025 19:12:23</td>\n",
       "      <td>noahchambers47@corporation.org</td>\n",
       "      <td>Noah</td>\n",
       "      <td>Chambers</td>\n",
       "      <td>male</td>\n",
       "      <td>data science</td>\n",
       "      <td>2.0</td>\n",
       "      <td>4</td>\n",
       "      <td>Affiliated</td>\n",
       "    </tr>\n",
       "  </tbody>\n",
       "</table>\n",
       "</div>"
      ],
      "text/plain": [
       "             Timestamp                    Email address First name Last name  \\\n",
       "0  01/03/2025 19:11:33       markschultz700@example.com       Mark   Schultz   \n",
       "1  01/03/2025 19:12:02     allisonrogers784@example.com    Allison    Rogers   \n",
       "2  01/03/2025 19:12:03   denisecardenas@corporation.org     Denise  Cardenas   \n",
       "3  01/03/2025 19:12:05  danielpotter886@corporation.org     Daniel    Potter   \n",
       "4  01/03/2025 19:12:23   noahchambers47@corporation.org       Noah  Chambers   \n",
       "\n",
       "   gender          course  cohort  cc_index alx_affiliated  \n",
       "0    male    data science     2.0         5     Affiliated  \n",
       "1  female    data science     3.0         5     Affiliated  \n",
       "2  female  data analytics     7.0         5     Affiliated  \n",
       "3    male    data science     2.0         5     Affiliated  \n",
       "4    male    data science     2.0         4     Affiliated  "
      ]
     },
     "execution_count": 10,
     "metadata": {},
     "output_type": "execute_result"
    }
   ],
   "source": [
    "# Apply transformations\n",
    "clean_df['First name'] = clean_df['gender'].apply(fake_first_name)\n",
    "clean_df['Last name'] = clean_df['Last name'].apply(lambda x: fake_last_name())\n",
    "\n",
    "# Generate emails based on the *new* names\n",
    "clean_df['Email address'] = clean_df.apply(\n",
    "    lambda row: fake_email_address(row['First name'], row['Last name']),\n",
    "    axis=1\n",
    ")\n",
    "\n",
    "clean_df.head()"
   ]
  },
  {
   "cell_type": "markdown",
   "id": "b4d62baa-16f6-49f4-acbf-2716330c0d73",
   "metadata": {},
   "source": [
    "We now have a cleaned and consistently structured dataset with anonymised dummy data."
   ]
  },
  {
   "cell_type": "markdown",
   "id": "677e3d18-5e72-41a1-98c7-30d2220a829d",
   "metadata": {},
   "source": [
    "## Dictionaries implementation"
   ]
  },
  {
   "cell_type": "markdown",
   "id": "d123e062-65c6-4f44-b7f6-3a2619927d66",
   "metadata": {},
   "source": [
    "In this section of the notebook, we try a more direct implementation using dictionaries to group participants into teams. We'll compare this implementation to the clustering implementation."
   ]
  },
  {
   "cell_type": "code",
   "execution_count": 11,
   "id": "cc394d81-46fe-4854-a374-87d7192708dd",
   "metadata": {},
   "outputs": [
    {
     "name": "stdout",
     "output_type": "stream",
     "text": [
      "<class 'collections.defaultdict'>\n"
     ]
    }
   ],
   "source": [
    "# Shuffle the dataset to mix participants\n",
    "df_shuffled = clean_df.sample(frac=1, random_state=42).reset_index(drop=True)\n",
    "\n",
    "# Group the participants by course\n",
    "grouped_by_course = defaultdict(list)\n",
    "for _, row in df_shuffled.iterrows():\n",
    "    grouped_by_course[row[\"course\"]].append(row)\n",
    "\n",
    "print(type(grouped_by_course))"
   ]
  },
  {
   "cell_type": "code",
   "execution_count": 12,
   "id": "2a4daed3-4575-4d6c-92a0-4f8462e248db",
   "metadata": {},
   "outputs": [
    {
     "data": {
      "text/plain": [
       "pandas.core.series.Series"
      ]
     },
     "execution_count": 12,
     "metadata": {},
     "output_type": "execute_result"
    }
   ],
   "source": [
    "# for k, v in grouped_by_course.items():\n",
    "#     if k = \"data science\":\n",
    "#         print(\n",
    "#     print(i)\n",
    "\n",
    "type(grouped_by_course[\"data science\"][0])"
   ]
  },
  {
   "cell_type": "code",
   "execution_count": 13,
   "id": "13684d19-a106-4fa1-9fcb-9fb1340b634b",
   "metadata": {},
   "outputs": [
    {
     "data": {
      "text/plain": [
       "course\n",
       "data science      216\n",
       "data analytics    102\n",
       "other              90\n",
       "Name: count, dtype: int64"
      ]
     },
     "execution_count": 13,
     "metadata": {},
     "output_type": "execute_result"
    }
   ],
   "source": [
    "# Inspect the data science students in the data\n",
    "clean_df[\"course\"].value_counts()"
   ]
  },
  {
   "cell_type": "code",
   "execution_count": 14,
   "id": "0f796f66-c4a5-48b6-bf41-9be5dd5286a5",
   "metadata": {},
   "outputs": [
    {
     "data": {
      "text/plain": [
       "['data science', 'data analytics', 'other']"
      ]
     },
     "execution_count": 14,
     "metadata": {},
     "output_type": "execute_result"
    }
   ],
   "source": [
    "list(clean_df[\"course\"].unique())"
   ]
  },
  {
   "cell_type": "code",
   "execution_count": 15,
   "id": "fd72a09b-1c76-4701-8fb5-ea05a52ee4ac",
   "metadata": {},
   "outputs": [],
   "source": [
    "# Create groups with diverse course representation\n",
    "group_size = 5"
   ]
  },
  {
   "cell_type": "code",
   "execution_count": 16,
   "id": "55cd0748-78a3-4a92-bc40-566ad3ff2dcf",
   "metadata": {},
   "outputs": [],
   "source": [
    "def populate_teams(course_groups, team_size):\n",
    "    # Initialize \n",
    "    teams = []\n",
    "    current_team = []\n",
    "    while any(course_groups.values()):\n",
    "        for course in list(clean_df[\"course\"].unique()):\n",
    "            if course_groups[course]:  # If there are members left in this course\n",
    "                current_team.append(course_groups[course].pop(0))\n",
    "    \n",
    "            if len(current_team) == team_size:\n",
    "                teams.append(current_team)\n",
    "                current_team = []\n",
    "    \n",
    "    # If any remaining members are left, add them to the last group\n",
    "    if current_team:\n",
    "        teams.append(current_team)\n",
    "\n",
    "    # Convert teams data into DataFrames and return a dicionary of team DataFrames\n",
    "    return {f\"Group {i+1}\": pd.DataFrame(teams) for i, team in enumerate(teams)}"
   ]
  },
  {
   "cell_type": "code",
   "execution_count": 17,
   "id": "f7ae19cd-edd8-4429-8826-ae35e9b9a15a",
   "metadata": {},
   "outputs": [
    {
     "data": {
      "text/plain": [
       "82"
      ]
     },
     "execution_count": 17,
     "metadata": {},
     "output_type": "execute_result"
    }
   ],
   "source": [
    "formed_teams = populate_teams(grouped_by_course, 5)\n",
    "# print(type(formed_teams))\n",
    "len(formed_teams)"
   ]
  },
  {
   "cell_type": "code",
   "execution_count": 18,
   "id": "cfc59b60-96a7-4916-bc66-880c650306c4",
   "metadata": {},
   "outputs": [
    {
     "name": "stdout",
     "output_type": "stream",
     "text": [
      "Group 1\n",
      "Group 2\n",
      "Group 3\n",
      "Group 4\n",
      "Group 5\n"
     ]
    }
   ],
   "source": [
    "for team in list(formed_teams.keys())[:5]:\n",
    "    print(team)"
   ]
  },
  {
   "cell_type": "markdown",
   "id": "8a0d67e3-212f-4fa8-b2ce-30f2f714c495",
   "metadata": {},
   "source": [
    "## Clustering implementation"
   ]
  },
  {
   "cell_type": "markdown",
   "id": "68efd597-25b3-48ba-b0aa-5a25e5f0fc19",
   "metadata": {},
   "source": [
    "### Proficiency Approximation"
   ]
  },
  {
   "cell_type": "markdown",
   "id": "b4a54ee6-f375-49b6-864e-e5e26c415470",
   "metadata": {},
   "source": [
    "We first try to approximate the level of proficiency of an applicant based on the duration between their course completion and datathon registration deadline dates. The following are assumptions we're making for the approximations:\n",
    "\n",
    "- If an applicant has not completed their course by the registration deadline i.e. the date for their course completion is later/greater than the registration deadline, then they are assumed to be a novice/intermediate participant depending on the degree of deviation from the registration deadline.\n",
    "- If an applicant has completed their course by the registration deadline i.e. the date for their course completion is equivalent to, ealier/less than the registration deadline, then they are assumed to be proficient\n",
    "\n",
    "For experimentation purposes, we will extract the dates and days from the timestamp in the dataset, visualize the distribution of the days in the dataset and use either the median or the mean, *depending on the shape of the distribution*, as the application deadline and the dates as the course completion dates and use the duration between the two to create an estimated proficiency of the applicant. \n",
    "\n",
    "We also use the days as the scale because the applications took place in short time frame but in the real application, the duration will be calculated in months."
   ]
  },
  {
   "cell_type": "code",
   "execution_count": 19,
   "id": "31123270-f6eb-4933-964f-58ac63b6cac5",
   "metadata": {},
   "outputs": [
    {
     "name": "stdout",
     "output_type": "stream",
     "text": [
      "<class 'pandas.core.frame.DataFrame'>\n",
      "RangeIndex: 408 entries, 0 to 407\n",
      "Data columns (total 9 columns):\n",
      " #   Column          Non-Null Count  Dtype  \n",
      "---  ------          --------------  -----  \n",
      " 0   Timestamp       408 non-null    object \n",
      " 1   Email address   408 non-null    object \n",
      " 2   First name      408 non-null    object \n",
      " 3   Last name       408 non-null    object \n",
      " 4   gender          408 non-null    object \n",
      " 5   course          408 non-null    object \n",
      " 6   cohort          361 non-null    float64\n",
      " 7   cc_index        408 non-null    int64  \n",
      " 8   alx_affiliated  408 non-null    object \n",
      "dtypes: float64(1), int64(1), object(7)\n",
      "memory usage: 28.8+ KB\n"
     ]
    }
   ],
   "source": [
    "clean_df.info()"
   ]
  },
  {
   "cell_type": "code",
   "execution_count": 20,
   "id": "2ff46037-7ad1-4c17-b0d5-de6bb64c7efe",
   "metadata": {},
   "outputs": [
    {
     "data": {
      "text/plain": [
       "403    17/03/2025 10:23:55\n",
       "404    18/03/2025 10:23:55\n",
       "405    18/03/2025 17:45:08\n",
       "406    19/03/2025 15:45:08\n",
       "407    19/03/2025 16:45:08\n",
       "Name: Timestamp, dtype: object"
      ]
     },
     "execution_count": 20,
     "metadata": {},
     "output_type": "execute_result"
    }
   ],
   "source": [
    "clean_df[\"Timestamp\"].tail()"
   ]
  },
  {
   "cell_type": "code",
   "execution_count": 21,
   "id": "50eae136-cb39-4c29-9663-abf0d6ab2bde",
   "metadata": {},
   "outputs": [],
   "source": [
    "# Extract the date from the timestamp column\n",
    "clean_df[\"date\"] = pd.to_datetime(clean_df[\"Timestamp\"], format=\"%d/%m/%Y %H:%M:%S\").dt.date"
   ]
  },
  {
   "cell_type": "code",
   "execution_count": 22,
   "id": "df74b1c1-35c1-4dea-88e1-cf8634ad8479",
   "metadata": {},
   "outputs": [
    {
     "data": {
      "image/png": "[encoded data removed]",
      "text/plain": [
       "<Figure size 1400x500 with 2 Axes>"
      ]
     },
     "metadata": {},
     "output_type": "display_data"
    }
   ],
   "source": [
    "# Get the date counts\n",
    "date_counts = clean_df[\"date\"].value_counts().sort_index()\n",
    "cumulative_counts = date_counts.cumsum()\n",
    "\n",
    "# Create a figure with two subplots side by side\n",
    "fig, (ax1, ax2) = plt.subplots(1, 2, figsize=(14, 5))\n",
    "\n",
    "# Plot daily applications\n",
    "ax1.plot(date_counts.index, date_counts.values)\n",
    "ax1.set_title(\"Daily Applications\")\n",
    "ax1.set_xlabel(\"Date\")\n",
    "ax1.set_ylabel(\"No. of Applications\")\n",
    "ax1.tick_params(axis='x', rotation=45)\n",
    "for label in ax1.get_xticklabels():\n",
    "    label.set_ha('right')  # Set horizontal alignment separately\n",
    "\n",
    "# Plot cumulative applications\n",
    "ax2.plot(cumulative_counts.index, cumulative_counts.values)\n",
    "ax2.set_title(\"Cumulative Applications\")\n",
    "ax2.set_xlabel(\"Date\")\n",
    "ax2.set_ylabel(\"Cumulative No. of Applications\")\n",
    "ax2.tick_params(axis='x', rotation=45)\n",
    "for label in ax2.get_xticklabels():\n",
    "    label.set_ha('right')  # Set horizontal alignment separately\n",
    "\n",
    "# Adjust layout and display\n",
    "plt.tight_layout()\n",
    "plt.show()"
   ]
  },
  {
   "cell_type": "code",
   "execution_count": 23,
   "id": "274ff31f-3857-4d24-a987-8453519c6933",
   "metadata": {},
   "outputs": [
    {
     "data": {
      "text/plain": [
       "array([ 1,  2,  3,  4,  5,  6,  7,  8,  9, 10, 11, 12, 13, 14, 15, 16, 17,\n",
       "       18, 19], dtype=int32)"
      ]
     },
     "execution_count": 23,
     "metadata": {},
     "output_type": "execute_result"
    }
   ],
   "source": [
    "# Extract the days from the timestamp\n",
    "days = pd.to_datetime(clean_df[\"Timestamp\"], format=\"%d/%m/%Y %H:%M:%S\").dt.day\n",
    "days.unique()"
   ]
  },
  {
   "cell_type": "code",
   "execution_count": 24,
   "id": "46d951a1-86e0-4686-b98c-1be765bd82a0",
   "metadata": {},
   "outputs": [],
   "source": [
    "# Import seaborn\n",
    "import seaborn as sns"
   ]
  },
  {
   "cell_type": "code",
   "execution_count": 25,
   "id": "dda2a5aa-6e04-4dca-85b2-a1b5df2fed3f",
   "metadata": {},
   "outputs": [
    {
     "data": {
      "image/png": "[encoded data removed]",
      "text/plain": [
       "<Figure size 640x480 with 1 Axes>"
      ]
     },
     "metadata": {},
     "output_type": "display_data"
    }
   ],
   "source": [
    "# Create a violin plot of the days distributions\n",
    "sns.violinplot(data=days)\n",
    "plt.title(\"Application Dates Distribution\")\n",
    "plt.show()"
   ]
  },
  {
   "cell_type": "code",
   "execution_count": 26,
   "id": "943ea9ba-5e84-4407-a99d-9676144034b7",
   "metadata": {},
   "outputs": [
    {
     "data": {
      "text/plain": [
       "4.0"
      ]
     },
     "execution_count": 26,
     "metadata": {},
     "output_type": "execute_result"
    }
   ],
   "source": [
    "import statistics\n",
    "# Compute the median day and use it as the registration deadline\n",
    "statistics.median(days)"
   ]
  },
  {
   "cell_type": "code",
   "execution_count": 27,
   "id": "f78087a3-7f71-4720-8120-fdfa01178611",
   "metadata": {},
   "outputs": [
    {
     "data": {
      "text/plain": [
       "0    2025-03-01\n",
       "1    2025-03-01\n",
       "2    2025-03-01\n",
       "3    2025-03-01\n",
       "4    2025-03-01\n",
       "Name: date, dtype: object"
      ]
     },
     "execution_count": 27,
     "metadata": {},
     "output_type": "execute_result"
    }
   ],
   "source": [
    "clean_df[\"date\"].head()"
   ]
  },
  {
   "cell_type": "code",
   "execution_count": 28,
   "id": "9e11088c-d280-4846-bc50-cb4d92414583",
   "metadata": {},
   "outputs": [
    {
     "data": {
      "text/plain": [
       "datetime.date"
      ]
     },
     "execution_count": 28,
     "metadata": {},
     "output_type": "execute_result"
    }
   ],
   "source": [
    "type(clean_df.loc[0, \"date\"])"
   ]
  },
  {
   "cell_type": "code",
   "execution_count": 29,
   "id": "41165349-7341-40be-b837-87b13045138f",
   "metadata": {},
   "outputs": [
    {
     "name": "stdout",
     "output_type": "stream",
     "text": [
      "<class 'pandas.core.frame.DataFrame'>\n",
      "RangeIndex: 408 entries, 0 to 407\n",
      "Data columns (total 11 columns):\n",
      " #   Column          Non-Null Count  Dtype  \n",
      "---  ------          --------------  -----  \n",
      " 0   Timestamp       408 non-null    object \n",
      " 1   Email address   408 non-null    object \n",
      " 2   First name      408 non-null    object \n",
      " 3   Last name       408 non-null    object \n",
      " 4   gender          408 non-null    object \n",
      " 5   course          408 non-null    object \n",
      " 6   cohort          361 non-null    float64\n",
      " 7   cc_index        408 non-null    int64  \n",
      " 8   alx_affiliated  408 non-null    object \n",
      " 9   date            408 non-null    object \n",
      " 10  proficiency     408 non-null    object \n",
      "dtypes: float64(1), int64(1), object(9)\n",
      "memory usage: 35.2+ KB\n"
     ]
    }
   ],
   "source": [
    "registration_deadline = pd.to_datetime(\"2025-03-04\") # from the median day\n",
    "\n",
    "# Estimate applicant's proficiency and create a new feature\n",
    "clean_df[\"proficiency\"] = clean_df[\"date\"].apply(\n",
    "    lambda x: \"Novice\" if (registration_deadline - pd.to_datetime(x)).days >= 0 else \"Proficient\")\n",
    "clean_df.info()"
   ]
  },
  {
   "cell_type": "code",
   "execution_count": 30,
   "id": "fe994ddd-45af-4ffb-b294-75123ddff947",
   "metadata": {},
   "outputs": [
    {
     "data": {
      "text/html": [
       "<div>\n",
       "<style scoped>\n",
       "    .dataframe tbody tr th:only-of-type {\n",
       "        vertical-align: middle;\n",
       "    }\n",
       "\n",
       "    .dataframe tbody tr th {\n",
       "        vertical-align: top;\n",
       "    }\n",
       "\n",
       "    .dataframe thead th {\n",
       "        text-align: right;\n",
       "    }\n",
       "</style>\n",
       "<table border=\"1\" class=\"dataframe\">\n",
       "  <thead>\n",
       "    <tr style=\"text-align: right;\">\n",
       "      <th></th>\n",
       "      <th>Timestamp</th>\n",
       "      <th>Email address</th>\n",
       "      <th>First name</th>\n",
       "      <th>Last name</th>\n",
       "      <th>gender</th>\n",
       "      <th>course</th>\n",
       "      <th>cohort</th>\n",
       "      <th>cc_index</th>\n",
       "      <th>alx_affiliated</th>\n",
       "      <th>date</th>\n",
       "      <th>proficiency</th>\n",
       "    </tr>\n",
       "  </thead>\n",
       "  <tbody>\n",
       "    <tr>\n",
       "      <th>0</th>\n",
       "      <td>01/03/2025 19:11:33</td>\n",
       "      <td>markschultz700@example.com</td>\n",
       "      <td>Mark</td>\n",
       "      <td>Schultz</td>\n",
       "      <td>male</td>\n",
       "      <td>data science</td>\n",
       "      <td>2.0</td>\n",
       "      <td>5</td>\n",
       "      <td>Affiliated</td>\n",
       "      <td>2025-03-01</td>\n",
       "      <td>Novice</td>\n",
       "    </tr>\n",
       "    <tr>\n",
       "      <th>1</th>\n",
       "      <td>01/03/2025 19:12:02</td>\n",
       "      <td>allisonrogers784@example.com</td>\n",
       "      <td>Allison</td>\n",
       "      <td>Rogers</td>\n",
       "      <td>female</td>\n",
       "      <td>data science</td>\n",
       "      <td>3.0</td>\n",
       "      <td>5</td>\n",
       "      <td>Affiliated</td>\n",
       "      <td>2025-03-01</td>\n",
       "      <td>Novice</td>\n",
       "    </tr>\n",
       "    <tr>\n",
       "      <th>2</th>\n",
       "      <td>01/03/2025 19:12:03</td>\n",
       "      <td>denisecardenas@corporation.org</td>\n",
       "      <td>Denise</td>\n",
       "      <td>Cardenas</td>\n",
       "      <td>female</td>\n",
       "      <td>data analytics</td>\n",
       "      <td>7.0</td>\n",
       "      <td>5</td>\n",
       "      <td>Affiliated</td>\n",
       "      <td>2025-03-01</td>\n",
       "      <td>Novice</td>\n",
       "    </tr>\n",
       "    <tr>\n",
       "      <th>3</th>\n",
       "      <td>01/03/2025 19:12:05</td>\n",
       "      <td>danielpotter886@corporation.org</td>\n",
       "      <td>Daniel</td>\n",
       "      <td>Potter</td>\n",
       "      <td>male</td>\n",
       "      <td>data science</td>\n",
       "      <td>2.0</td>\n",
       "      <td>5</td>\n",
       "      <td>Affiliated</td>\n",
       "      <td>2025-03-01</td>\n",
       "      <td>Novice</td>\n",
       "    </tr>\n",
       "    <tr>\n",
       "      <th>4</th>\n",
       "      <td>01/03/2025 19:12:23</td>\n",
       "      <td>noahchambers47@corporation.org</td>\n",
       "      <td>Noah</td>\n",
       "      <td>Chambers</td>\n",
       "      <td>male</td>\n",
       "      <td>data science</td>\n",
       "      <td>2.0</td>\n",
       "      <td>4</td>\n",
       "      <td>Affiliated</td>\n",
       "      <td>2025-03-01</td>\n",
       "      <td>Novice</td>\n",
       "    </tr>\n",
       "  </tbody>\n",
       "</table>\n",
       "</div>"
      ],
      "text/plain": [
       "             Timestamp                    Email address First name Last name  \\\n",
       "0  01/03/2025 19:11:33       markschultz700@example.com       Mark   Schultz   \n",
       "1  01/03/2025 19:12:02     allisonrogers784@example.com    Allison    Rogers   \n",
       "2  01/03/2025 19:12:03   denisecardenas@corporation.org     Denise  Cardenas   \n",
       "3  01/03/2025 19:12:05  danielpotter886@corporation.org     Daniel    Potter   \n",
       "4  01/03/2025 19:12:23   noahchambers47@corporation.org       Noah  Chambers   \n",
       "\n",
       "   gender          course  cohort  cc_index alx_affiliated        date  \\\n",
       "0    male    data science     2.0         5     Affiliated  2025-03-01   \n",
       "1  female    data science     3.0         5     Affiliated  2025-03-01   \n",
       "2  female  data analytics     7.0         5     Affiliated  2025-03-01   \n",
       "3    male    data science     2.0         5     Affiliated  2025-03-01   \n",
       "4    male    data science     2.0         4     Affiliated  2025-03-01   \n",
       "\n",
       "  proficiency  \n",
       "0      Novice  \n",
       "1      Novice  \n",
       "2      Novice  \n",
       "3      Novice  \n",
       "4      Novice  "
      ]
     },
     "execution_count": 30,
     "metadata": {},
     "output_type": "execute_result"
    }
   ],
   "source": [
    "clean_df.head()"
   ]
  },
  {
   "cell_type": "code",
   "execution_count": 31,
   "id": "1d9e34ef-f50c-4330-b595-b770d1d086e8",
   "metadata": {},
   "outputs": [
    {
     "data": {
      "text/plain": [
       "array(['Novice', 'Proficient'], dtype=object)"
      ]
     },
     "execution_count": 31,
     "metadata": {},
     "output_type": "execute_result"
    }
   ],
   "source": [
    "clean_df[\"proficiency\"].unique()"
   ]
  },
  {
   "cell_type": "code",
   "execution_count": 32,
   "id": "22bf1a89-525c-4563-bc0d-e427c5c4c87d",
   "metadata": {},
   "outputs": [
    {
     "data": {
      "image/png": "[encoded data removed]",
      "text/plain": [
       "<Figure size 640x480 with 1 Axes>"
      ]
     },
     "metadata": {},
     "output_type": "display_data"
    }
   ],
   "source": [
    "# Visualize the distribution of novice and proficient applicants\n",
    "clean_df[\"proficiency\"].value_counts().plot.barh()\n",
    "plt.title(\"No. of Applicants by proficiency\")\n",
    "plt.show()"
   ]
  },
  {
   "cell_type": "code",
   "execution_count": 33,
   "id": "47a95bb4-8434-4c79-8edf-7ab295a27422",
   "metadata": {},
   "outputs": [
    {
     "data": {
      "text/html": [
       "<div>\n",
       "<style scoped>\n",
       "    .dataframe tbody tr th:only-of-type {\n",
       "        vertical-align: middle;\n",
       "    }\n",
       "\n",
       "    .dataframe tbody tr th {\n",
       "        vertical-align: top;\n",
       "    }\n",
       "\n",
       "    .dataframe thead th {\n",
       "        text-align: right;\n",
       "    }\n",
       "</style>\n",
       "<table border=\"1\" class=\"dataframe\">\n",
       "  <thead>\n",
       "    <tr style=\"text-align: right;\">\n",
       "      <th></th>\n",
       "      <th>Timestamp</th>\n",
       "      <th>Email address</th>\n",
       "      <th>First name</th>\n",
       "      <th>Last name</th>\n",
       "      <th>gender</th>\n",
       "      <th>course</th>\n",
       "      <th>cohort</th>\n",
       "      <th>cc_index</th>\n",
       "      <th>alx_affiliated</th>\n",
       "      <th>date</th>\n",
       "      <th>proficiency</th>\n",
       "    </tr>\n",
       "  </thead>\n",
       "  <tbody>\n",
       "    <tr>\n",
       "      <th>0</th>\n",
       "      <td>01/03/2025 19:11:33</td>\n",
       "      <td>markschultz700@example.com</td>\n",
       "      <td>Mark</td>\n",
       "      <td>Schultz</td>\n",
       "      <td>male</td>\n",
       "      <td>data science</td>\n",
       "      <td>2.0</td>\n",
       "      <td>5</td>\n",
       "      <td>Affiliated</td>\n",
       "      <td>2025-03-01</td>\n",
       "      <td>Novice</td>\n",
       "    </tr>\n",
       "    <tr>\n",
       "      <th>1</th>\n",
       "      <td>01/03/2025 19:12:02</td>\n",
       "      <td>allisonrogers784@example.com</td>\n",
       "      <td>Allison</td>\n",
       "      <td>Rogers</td>\n",
       "      <td>female</td>\n",
       "      <td>data science</td>\n",
       "      <td>3.0</td>\n",
       "      <td>5</td>\n",
       "      <td>Affiliated</td>\n",
       "      <td>2025-03-01</td>\n",
       "      <td>Novice</td>\n",
       "    </tr>\n",
       "    <tr>\n",
       "      <th>2</th>\n",
       "      <td>01/03/2025 19:12:03</td>\n",
       "      <td>denisecardenas@corporation.org</td>\n",
       "      <td>Denise</td>\n",
       "      <td>Cardenas</td>\n",
       "      <td>female</td>\n",
       "      <td>data analytics</td>\n",
       "      <td>7.0</td>\n",
       "      <td>5</td>\n",
       "      <td>Affiliated</td>\n",
       "      <td>2025-03-01</td>\n",
       "      <td>Novice</td>\n",
       "    </tr>\n",
       "    <tr>\n",
       "      <th>3</th>\n",
       "      <td>01/03/2025 19:12:05</td>\n",
       "      <td>danielpotter886@corporation.org</td>\n",
       "      <td>Daniel</td>\n",
       "      <td>Potter</td>\n",
       "      <td>male</td>\n",
       "      <td>data science</td>\n",
       "      <td>2.0</td>\n",
       "      <td>5</td>\n",
       "      <td>Affiliated</td>\n",
       "      <td>2025-03-01</td>\n",
       "      <td>Novice</td>\n",
       "    </tr>\n",
       "    <tr>\n",
       "      <th>4</th>\n",
       "      <td>01/03/2025 19:12:23</td>\n",
       "      <td>noahchambers47@corporation.org</td>\n",
       "      <td>Noah</td>\n",
       "      <td>Chambers</td>\n",
       "      <td>male</td>\n",
       "      <td>data science</td>\n",
       "      <td>2.0</td>\n",
       "      <td>4</td>\n",
       "      <td>Affiliated</td>\n",
       "      <td>2025-03-01</td>\n",
       "      <td>Novice</td>\n",
       "    </tr>\n",
       "  </tbody>\n",
       "</table>\n",
       "</div>"
      ],
      "text/plain": [
       "             Timestamp                    Email address First name Last name  \\\n",
       "0  01/03/2025 19:11:33       markschultz700@example.com       Mark   Schultz   \n",
       "1  01/03/2025 19:12:02     allisonrogers784@example.com    Allison    Rogers   \n",
       "2  01/03/2025 19:12:03   denisecardenas@corporation.org     Denise  Cardenas   \n",
       "3  01/03/2025 19:12:05  danielpotter886@corporation.org     Daniel    Potter   \n",
       "4  01/03/2025 19:12:23   noahchambers47@corporation.org       Noah  Chambers   \n",
       "\n",
       "   gender          course  cohort  cc_index alx_affiliated        date  \\\n",
       "0    male    data science     2.0         5     Affiliated  2025-03-01   \n",
       "1  female    data science     3.0         5     Affiliated  2025-03-01   \n",
       "2  female  data analytics     7.0         5     Affiliated  2025-03-01   \n",
       "3    male    data science     2.0         5     Affiliated  2025-03-01   \n",
       "4    male    data science     2.0         4     Affiliated  2025-03-01   \n",
       "\n",
       "  proficiency  \n",
       "0      Novice  \n",
       "1      Novice  \n",
       "2      Novice  \n",
       "3      Novice  \n",
       "4      Novice  "
      ]
     },
     "execution_count": 33,
     "metadata": {},
     "output_type": "execute_result"
    }
   ],
   "source": [
    "clean_df.head()"
   ]
  },
  {
   "cell_type": "code",
   "execution_count": 34,
   "id": "9fe5f589-7fc2-45b7-b865-d8031e1b98c2",
   "metadata": {},
   "outputs": [
    {
     "data": {
      "image/png": "[encoded data removed]",
      "text/plain": [
       "<Figure size 640x480 with 1 Axes>"
      ]
     },
     "metadata": {},
     "output_type": "display_data"
    }
   ],
   "source": [
    "clean_df[\"course\"].value_counts().plot.barh()\n",
    "plt.show()"
   ]
  },
  {
   "cell_type": "code",
   "execution_count": 35,
   "id": "9fd8d119-c5b1-4aef-8aa7-147a7ddc7c0e",
   "metadata": {},
   "outputs": [],
   "source": [
    "# Randomly impute courses labeled as other with either front-end or back-end\n",
    "import random\n",
    "clean_df[\"course\"] = clean_df[\"course\"].apply(\n",
    "    lambda x: random.choice([\"front-end wd\", \"back-end wd\"]) if x == \"other\" else x)"
   ]
  },
  {
   "cell_type": "code",
   "execution_count": 36,
   "id": "8270a627-4c75-4870-813e-9c5639c99ffc",
   "metadata": {},
   "outputs": [
    {
     "data": {
      "image/png": "[encoded data removed]",
      "text/plain": [
       "<Figure size 640x480 with 1 Axes>"
      ]
     },
     "metadata": {},
     "output_type": "display_data"
    }
   ],
   "source": [
    "clean_df[\"course\"].value_counts().plot.barh()\n",
    "plt.show()"
   ]
  },
  {
   "cell_type": "code",
   "execution_count": 37,
   "id": "18752bb7-f6fc-4644-8992-d9081402f34f",
   "metadata": {},
   "outputs": [
    {
     "data": {
      "text/plain": [
       "Index(['Timestamp', 'Email address', 'First name', 'Last name', 'gender',\n",
       "       'course', 'cohort', 'cc_index', 'alx_affiliated', 'date',\n",
       "       'proficiency'],\n",
       "      dtype='object')"
      ]
     },
     "execution_count": 37,
     "metadata": {},
     "output_type": "execute_result"
    }
   ],
   "source": [
    "clean_df.columns"
   ]
  },
  {
   "cell_type": "code",
   "execution_count": 38,
   "id": "837f7687-35c6-4aef-9c23-b9cb19ac91f4",
   "metadata": {},
   "outputs": [
    {
     "name": "stdout",
     "output_type": "stream",
     "text": [
      "<class 'pandas.core.frame.DataFrame'>\n",
      "RangeIndex: 408 entries, 0 to 407\n",
      "Data columns (total 7 columns):\n",
      " #   Column          Non-Null Count  Dtype \n",
      "---  ------          --------------  ----- \n",
      " 0   Email address   408 non-null    object\n",
      " 1   First name      408 non-null    object\n",
      " 2   Last name       408 non-null    object\n",
      " 3   gender          408 non-null    object\n",
      " 4   course          408 non-null    object\n",
      " 5   alx_affiliated  408 non-null    object\n",
      " 6   proficiency     408 non-null    object\n",
      "dtypes: object(7)\n",
      "memory usage: 22.4+ KB\n"
     ]
    }
   ],
   "source": [
    "# Extract columns to retain in the final dataset\n",
    "columns_to_keep = [\"Email address\", \"First name\", \"Last name\", \"gender\", \"course\", \"alx_affiliated\", \"proficiency\"]\n",
    "clean_df = clean_df[columns_to_keep]\n",
    "clean_df.info()"
   ]
  },
  {
   "cell_type": "code",
   "execution_count": 39,
   "id": "15a009c0-ad17-4159-9b13-c4e5ece8bffb",
   "metadata": {},
   "outputs": [
    {
     "data": {
      "text/html": [
       "<div>\n",
       "<style scoped>\n",
       "    .dataframe tbody tr th:only-of-type {\n",
       "        vertical-align: middle;\n",
       "    }\n",
       "\n",
       "    .dataframe tbody tr th {\n",
       "        vertical-align: top;\n",
       "    }\n",
       "\n",
       "    .dataframe thead th {\n",
       "        text-align: right;\n",
       "    }\n",
       "</style>\n",
       "<table border=\"1\" class=\"dataframe\">\n",
       "  <thead>\n",
       "    <tr style=\"text-align: right;\">\n",
       "      <th></th>\n",
       "      <th>Email address</th>\n",
       "      <th>First name</th>\n",
       "      <th>Last name</th>\n",
       "      <th>gender</th>\n",
       "      <th>course</th>\n",
       "      <th>alx_affiliated</th>\n",
       "      <th>proficiency</th>\n",
       "    </tr>\n",
       "  </thead>\n",
       "  <tbody>\n",
       "    <tr>\n",
       "      <th>0</th>\n",
       "      <td>markschultz700@example.com</td>\n",
       "      <td>Mark</td>\n",
       "      <td>Schultz</td>\n",
       "      <td>male</td>\n",
       "      <td>data science</td>\n",
       "      <td>Affiliated</td>\n",
       "      <td>Novice</td>\n",
       "    </tr>\n",
       "    <tr>\n",
       "      <th>1</th>\n",
       "      <td>allisonrogers784@example.com</td>\n",
       "      <td>Allison</td>\n",
       "      <td>Rogers</td>\n",
       "      <td>female</td>\n",
       "      <td>data science</td>\n",
       "      <td>Affiliated</td>\n",
       "      <td>Novice</td>\n",
       "    </tr>\n",
       "    <tr>\n",
       "      <th>2</th>\n",
       "      <td>denisecardenas@corporation.org</td>\n",
       "      <td>Denise</td>\n",
       "      <td>Cardenas</td>\n",
       "      <td>female</td>\n",
       "      <td>data analytics</td>\n",
       "      <td>Affiliated</td>\n",
       "      <td>Novice</td>\n",
       "    </tr>\n",
       "    <tr>\n",
       "      <th>3</th>\n",
       "      <td>danielpotter886@corporation.org</td>\n",
       "      <td>Daniel</td>\n",
       "      <td>Potter</td>\n",
       "      <td>male</td>\n",
       "      <td>data science</td>\n",
       "      <td>Affiliated</td>\n",
       "      <td>Novice</td>\n",
       "    </tr>\n",
       "    <tr>\n",
       "      <th>4</th>\n",
       "      <td>noahchambers47@corporation.org</td>\n",
       "      <td>Noah</td>\n",
       "      <td>Chambers</td>\n",
       "      <td>male</td>\n",
       "      <td>data science</td>\n",
       "      <td>Affiliated</td>\n",
       "      <td>Novice</td>\n",
       "    </tr>\n",
       "  </tbody>\n",
       "</table>\n",
       "</div>"
      ],
      "text/plain": [
       "                     Email address First name Last name  gender  \\\n",
       "0       markschultz700@example.com       Mark   Schultz    male   \n",
       "1     allisonrogers784@example.com    Allison    Rogers  female   \n",
       "2   denisecardenas@corporation.org     Denise  Cardenas  female   \n",
       "3  danielpotter886@corporation.org     Daniel    Potter    male   \n",
       "4   noahchambers47@corporation.org       Noah  Chambers    male   \n",
       "\n",
       "           course alx_affiliated proficiency  \n",
       "0    data science     Affiliated      Novice  \n",
       "1    data science     Affiliated      Novice  \n",
       "2  data analytics     Affiliated      Novice  \n",
       "3    data science     Affiliated      Novice  \n",
       "4    data science     Affiliated      Novice  "
      ]
     },
     "execution_count": 39,
     "metadata": {},
     "output_type": "execute_result"
    }
   ],
   "source": [
    "clean_df.head()"
   ]
  },
  {
   "cell_type": "code",
   "execution_count": 40,
   "id": "45e4bbdf-f5c5-43fb-9320-a471a8287ff7",
   "metadata": {},
   "outputs": [],
   "source": [
    "# Drop the affiliated column and select participant descriptive features only\n",
    "data = clean_df.drop(\"alx_affiliated\", axis=1).loc[:, \"gender\":]"
   ]
  },
  {
   "cell_type": "code",
   "execution_count": 41,
   "id": "a1df8eb1-4da9-48e2-8165-04a470224328",
   "metadata": {},
   "outputs": [
    {
     "data": {
      "text/plain": [
       "(10,\n",
       " 324.9306846734008,\n",
       " cluster\n",
       " 0    39\n",
       " 1    58\n",
       " 2    90\n",
       " 3    34\n",
       " 4    68\n",
       " 5    36\n",
       " 6    34\n",
       " 7    14\n",
       " 8    16\n",
       " 9    19\n",
       " Name: count, dtype: int64)"
      ]
     },
     "execution_count": 41,
     "metadata": {},
     "output_type": "execute_result"
    }
   ],
   "source": [
    "# One-hot encode categorical features\n",
    "encoder = OneHotEncoder()\n",
    "encoded_features = encoder.fit_transform(data)\n",
    "\n",
    "# Evaluate clustering quality using Calinski-Harabasz Index for different k\n",
    "k_range = range(2, 11)\n",
    "ch_scores = []\n",
    "\n",
    "for k in k_range:\n",
    "    gmm = GaussianMixture(n_components=k, random_state=42)\n",
    "    labels = gmm.fit_predict(encoded_features.toarray())\n",
    "    score = calinski_harabasz_score(encoded_features.toarray(), labels)\n",
    "    ch_scores.append(score)\n",
    "\n",
    "# Select best k and fit final GMM\n",
    "best_k = k_range[np.argmax(ch_scores)]\n",
    "best_score = max(ch_scores)\n",
    "\n",
    "final_gmm = GaussianMixture(n_components=best_k, random_state=42)\n",
    "final_clusters = final_gmm.fit_predict(encoded_features.toarray())\n",
    "data['cluster'] = final_clusters\n",
    "\n",
    "# Output the best k, best score, and cluster distribution\n",
    "best_k, best_score, data['cluster'].value_counts().sort_index()"
   ]
  },
  {
   "cell_type": "code",
   "execution_count": 42,
   "id": "192225bd-f254-4404-9133-65fd5330acd9",
   "metadata": {},
   "outputs": [
    {
     "data": {
      "text/html": [
       "<div>\n",
       "<style scoped>\n",
       "    .dataframe tbody tr th:only-of-type {\n",
       "        vertical-align: middle;\n",
       "    }\n",
       "\n",
       "    .dataframe tbody tr th {\n",
       "        vertical-align: top;\n",
       "    }\n",
       "\n",
       "    .dataframe thead th {\n",
       "        text-align: right;\n",
       "    }\n",
       "</style>\n",
       "<table border=\"1\" class=\"dataframe\">\n",
       "  <thead>\n",
       "    <tr style=\"text-align: right;\">\n",
       "      <th></th>\n",
       "      <th>gender</th>\n",
       "      <th>course</th>\n",
       "      <th>proficiency</th>\n",
       "      <th>cluster</th>\n",
       "    </tr>\n",
       "  </thead>\n",
       "  <tbody>\n",
       "    <tr>\n",
       "      <th>0</th>\n",
       "      <td>male</td>\n",
       "      <td>data science</td>\n",
       "      <td>Novice</td>\n",
       "      <td>2</td>\n",
       "    </tr>\n",
       "    <tr>\n",
       "      <th>1</th>\n",
       "      <td>female</td>\n",
       "      <td>data science</td>\n",
       "      <td>Novice</td>\n",
       "      <td>4</td>\n",
       "    </tr>\n",
       "    <tr>\n",
       "      <th>2</th>\n",
       "      <td>female</td>\n",
       "      <td>data analytics</td>\n",
       "      <td>Novice</td>\n",
       "      <td>8</td>\n",
       "    </tr>\n",
       "    <tr>\n",
       "      <th>3</th>\n",
       "      <td>male</td>\n",
       "      <td>data science</td>\n",
       "      <td>Novice</td>\n",
       "      <td>2</td>\n",
       "    </tr>\n",
       "    <tr>\n",
       "      <th>4</th>\n",
       "      <td>male</td>\n",
       "      <td>data science</td>\n",
       "      <td>Novice</td>\n",
       "      <td>2</td>\n",
       "    </tr>\n",
       "  </tbody>\n",
       "</table>\n",
       "</div>"
      ],
      "text/plain": [
       "   gender          course proficiency  cluster\n",
       "0    male    data science      Novice        2\n",
       "1  female    data science      Novice        4\n",
       "2  female  data analytics      Novice        8\n",
       "3    male    data science      Novice        2\n",
       "4    male    data science      Novice        2"
      ]
     },
     "execution_count": 42,
     "metadata": {},
     "output_type": "execute_result"
    }
   ],
   "source": [
    "# Inspect the clustered data points\n",
    "data.head()"
   ]
  },
  {
   "cell_type": "code",
   "execution_count": 43,
   "id": "759e0063-beb8-4b04-8a35-9c2a5ae63acc",
   "metadata": {},
   "outputs": [],
   "source": [
    "# Team Formation\n",
    "min_team_size = 5\n",
    "teams = []\n",
    "participants_per_cluster = defaultdict(list)\n",
    "\n",
    "# Group participants by cluster\n",
    "for i, row in data.iterrows():\n",
    "    participants_per_cluster[row['cluster']].append(i)\n",
    "\n",
    "# Shuffle each cluster's participants\n",
    "for cluster_id in participants_per_cluster:\n",
    "    participants_per_cluster[cluster_id] = shuffle(participants_per_cluster[cluster_id], random_state=42)\n",
    "\n",
    "# Total number of participants\n",
    "total_participants = len(data)\n",
    "\n",
    "# Estimate number of teams\n",
    "estimated_teams = total_participants // min_team_size\n",
    "\n",
    "# Distribute participants into teams ensuring cluster diversity\n",
    "team_assignments = [[] for _ in range(estimated_teams)]\n",
    "\n",
    "# Round-robin sampling from clusters into team slots\n",
    "team_index = 0\n",
    "while any(participants_per_cluster.values()):\n",
    "    for cluster_id in range(k):\n",
    "        if participants_per_cluster[cluster_id]:\n",
    "            participant_id = participants_per_cluster[cluster_id].pop()\n",
    "            team_assignments[team_index % estimated_teams].append(participant_id)\n",
    "            team_index += 1\n",
    "\n",
    "# Assign team IDs to participants\n",
    "data['teamID'] = -1\n",
    "for idx, team in enumerate(team_assignments):\n",
    "    for participant_id in team:\n",
    "        data.at[participant_id, 'teamID'] = idx + 1  # Team IDs start from 1"
   ]
  },
  {
   "cell_type": "code",
   "execution_count": 44,
   "id": "f2580dc9-8e33-4489-9922-3c81dd55196d",
   "metadata": {},
   "outputs": [
    {
     "data": {
      "text/html": [
       "<div>\n",
       "<style scoped>\n",
       "    .dataframe tbody tr th:only-of-type {\n",
       "        vertical-align: middle;\n",
       "    }\n",
       "\n",
       "    .dataframe tbody tr th {\n",
       "        vertical-align: top;\n",
       "    }\n",
       "\n",
       "    .dataframe thead th {\n",
       "        text-align: right;\n",
       "    }\n",
       "</style>\n",
       "<table border=\"1\" class=\"dataframe\">\n",
       "  <thead>\n",
       "    <tr style=\"text-align: right;\">\n",
       "      <th></th>\n",
       "      <th>gender</th>\n",
       "      <th>course</th>\n",
       "      <th>proficiency</th>\n",
       "      <th>cluster</th>\n",
       "      <th>teamID</th>\n",
       "    </tr>\n",
       "  </thead>\n",
       "  <tbody>\n",
       "    <tr>\n",
       "      <th>0</th>\n",
       "      <td>male</td>\n",
       "      <td>data science</td>\n",
       "      <td>Novice</td>\n",
       "      <td>2</td>\n",
       "      <td>80</td>\n",
       "    </tr>\n",
       "    <tr>\n",
       "      <th>1</th>\n",
       "      <td>female</td>\n",
       "      <td>data science</td>\n",
       "      <td>Novice</td>\n",
       "      <td>4</td>\n",
       "      <td>33</td>\n",
       "    </tr>\n",
       "    <tr>\n",
       "      <th>2</th>\n",
       "      <td>female</td>\n",
       "      <td>data analytics</td>\n",
       "      <td>Novice</td>\n",
       "      <td>8</td>\n",
       "      <td>76</td>\n",
       "    </tr>\n",
       "    <tr>\n",
       "      <th>3</th>\n",
       "      <td>male</td>\n",
       "      <td>data science</td>\n",
       "      <td>Novice</td>\n",
       "      <td>2</td>\n",
       "      <td>42</td>\n",
       "    </tr>\n",
       "    <tr>\n",
       "      <th>4</th>\n",
       "      <td>male</td>\n",
       "      <td>data science</td>\n",
       "      <td>Novice</td>\n",
       "      <td>2</td>\n",
       "      <td>12</td>\n",
       "    </tr>\n",
       "  </tbody>\n",
       "</table>\n",
       "</div>"
      ],
      "text/plain": [
       "   gender          course proficiency  cluster  teamID\n",
       "0    male    data science      Novice        2      80\n",
       "1  female    data science      Novice        4      33\n",
       "2  female  data analytics      Novice        8      76\n",
       "3    male    data science      Novice        2      42\n",
       "4    male    data science      Novice        2      12"
      ]
     },
     "execution_count": 44,
     "metadata": {},
     "output_type": "execute_result"
    }
   ],
   "source": [
    "# Inspect assigned team IDs\n",
    "data.head()"
   ]
  },
  {
   "cell_type": "code",
   "execution_count": 45,
   "id": "79683778-05cf-41ee-95d0-0359bd528d2d",
   "metadata": {},
   "outputs": [
    {
     "data": {
      "text/plain": [
       "array([ 1,  2,  3,  4,  5,  6,  7,  8,  9, 10, 11, 12, 13, 14, 15, 16, 17,\n",
       "       18, 19, 20, 21, 22, 23, 24, 25, 26, 27, 28, 29, 30, 31, 32, 33, 34,\n",
       "       35, 36, 37, 38, 39, 40, 41, 42, 43, 44, 45, 46, 47, 48, 49, 50, 51,\n",
       "       52, 53, 54, 55, 56, 57, 58, 59, 60, 61, 62, 63, 64, 65, 66, 67, 68,\n",
       "       69, 70, 71, 72, 73, 74, 75, 76, 77, 78, 79, 80, 81])"
      ]
     },
     "execution_count": 45,
     "metadata": {},
     "output_type": "execute_result"
    }
   ],
   "source": [
    "np.sort(data[\"teamID\"].unique())"
   ]
  },
  {
   "cell_type": "code",
   "execution_count": 46,
   "id": "6ab87b48-05ef-436d-b3c8-16003b1e5656",
   "metadata": {},
   "outputs": [
    {
     "data": {
      "text/html": [
       "<div>\n",
       "<style scoped>\n",
       "    .dataframe tbody tr th:only-of-type {\n",
       "        vertical-align: middle;\n",
       "    }\n",
       "\n",
       "    .dataframe tbody tr th {\n",
       "        vertical-align: top;\n",
       "    }\n",
       "\n",
       "    .dataframe thead th {\n",
       "        text-align: right;\n",
       "    }\n",
       "</style>\n",
       "<table border=\"1\" class=\"dataframe\">\n",
       "  <thead>\n",
       "    <tr style=\"text-align: right;\">\n",
       "      <th></th>\n",
       "      <th>gender</th>\n",
       "      <th>course</th>\n",
       "      <th>proficiency</th>\n",
       "      <th>cluster</th>\n",
       "      <th>teamID</th>\n",
       "    </tr>\n",
       "  </thead>\n",
       "  <tbody>\n",
       "    <tr>\n",
       "      <th>77</th>\n",
       "      <td>female</td>\n",
       "      <td>data science</td>\n",
       "      <td>Novice</td>\n",
       "      <td>4</td>\n",
       "      <td>81</td>\n",
       "    </tr>\n",
       "    <tr>\n",
       "      <th>163</th>\n",
       "      <td>female</td>\n",
       "      <td>data science</td>\n",
       "      <td>Novice</td>\n",
       "      <td>4</td>\n",
       "      <td>81</td>\n",
       "    </tr>\n",
       "    <tr>\n",
       "      <th>192</th>\n",
       "      <td>male</td>\n",
       "      <td>data science</td>\n",
       "      <td>Novice</td>\n",
       "      <td>2</td>\n",
       "      <td>81</td>\n",
       "    </tr>\n",
       "    <tr>\n",
       "      <th>261</th>\n",
       "      <td>female</td>\n",
       "      <td>data analytics</td>\n",
       "      <td>Proficient</td>\n",
       "      <td>3</td>\n",
       "      <td>81</td>\n",
       "    </tr>\n",
       "    <tr>\n",
       "      <th>300</th>\n",
       "      <td>male</td>\n",
       "      <td>back-end wd</td>\n",
       "      <td>Proficient</td>\n",
       "      <td>0</td>\n",
       "      <td>81</td>\n",
       "    </tr>\n",
       "  </tbody>\n",
       "</table>\n",
       "</div>"
      ],
      "text/plain": [
       "     gender          course proficiency  cluster  teamID\n",
       "77   female    data science      Novice        4      81\n",
       "163  female    data science      Novice        4      81\n",
       "192    male    data science      Novice        2      81\n",
       "261  female  data analytics  Proficient        3      81\n",
       "300    male     back-end wd  Proficient        0      81"
      ]
     },
     "execution_count": 46,
     "metadata": {},
     "output_type": "execute_result"
    }
   ],
   "source": [
    "data[data[\"teamID\"] == 81]"
   ]
  },
  {
   "cell_type": "code",
   "execution_count": 47,
   "id": "ebad0045-313c-4d96-8b09-f735f20ce3d8",
   "metadata": {},
   "outputs": [
    {
     "data": {
      "text/html": [
       "<div>\n",
       "<style scoped>\n",
       "    .dataframe tbody tr th:only-of-type {\n",
       "        vertical-align: middle;\n",
       "    }\n",
       "\n",
       "    .dataframe tbody tr th {\n",
       "        vertical-align: top;\n",
       "    }\n",
       "\n",
       "    .dataframe thead th {\n",
       "        text-align: right;\n",
       "    }\n",
       "</style>\n",
       "<table border=\"1\" class=\"dataframe\">\n",
       "  <thead>\n",
       "    <tr style=\"text-align: right;\">\n",
       "      <th></th>\n",
       "      <th>gender</th>\n",
       "      <th>course</th>\n",
       "      <th>proficiency</th>\n",
       "      <th>cluster</th>\n",
       "      <th>teamID</th>\n",
       "    </tr>\n",
       "  </thead>\n",
       "  <tbody>\n",
       "    <tr>\n",
       "      <th>70</th>\n",
       "      <td>female</td>\n",
       "      <td>data science</td>\n",
       "      <td>Novice</td>\n",
       "      <td>4</td>\n",
       "      <td>1</td>\n",
       "    </tr>\n",
       "    <tr>\n",
       "      <th>98</th>\n",
       "      <td>male</td>\n",
       "      <td>data analytics</td>\n",
       "      <td>Novice</td>\n",
       "      <td>5</td>\n",
       "      <td>1</td>\n",
       "    </tr>\n",
       "    <tr>\n",
       "      <th>150</th>\n",
       "      <td>male</td>\n",
       "      <td>data science</td>\n",
       "      <td>Novice</td>\n",
       "      <td>2</td>\n",
       "      <td>1</td>\n",
       "    </tr>\n",
       "    <tr>\n",
       "      <th>299</th>\n",
       "      <td>male</td>\n",
       "      <td>data science</td>\n",
       "      <td>Proficient</td>\n",
       "      <td>1</td>\n",
       "      <td>1</td>\n",
       "    </tr>\n",
       "    <tr>\n",
       "      <th>325</th>\n",
       "      <td>male</td>\n",
       "      <td>data science</td>\n",
       "      <td>Proficient</td>\n",
       "      <td>1</td>\n",
       "      <td>1</td>\n",
       "    </tr>\n",
       "    <tr>\n",
       "      <th>402</th>\n",
       "      <td>male</td>\n",
       "      <td>back-end wd</td>\n",
       "      <td>Proficient</td>\n",
       "      <td>0</td>\n",
       "      <td>1</td>\n",
       "    </tr>\n",
       "  </tbody>\n",
       "</table>\n",
       "</div>"
      ],
      "text/plain": [
       "     gender          course proficiency  cluster  teamID\n",
       "70   female    data science      Novice        4       1\n",
       "98     male  data analytics      Novice        5       1\n",
       "150    male    data science      Novice        2       1\n",
       "299    male    data science  Proficient        1       1\n",
       "325    male    data science  Proficient        1       1\n",
       "402    male     back-end wd  Proficient        0       1"
      ]
     },
     "execution_count": 47,
     "metadata": {},
     "output_type": "execute_result"
    }
   ],
   "source": [
    "data[data[\"teamID\"] == 1]"
   ]
  },
  {
   "cell_type": "code",
   "execution_count": 48,
   "id": "e584696e-4ff0-4fb8-8594-4a5074418c20",
   "metadata": {},
   "outputs": [
    {
     "data": {
      "text/html": [
       "<div>\n",
       "<style scoped>\n",
       "    .dataframe tbody tr th:only-of-type {\n",
       "        vertical-align: middle;\n",
       "    }\n",
       "\n",
       "    .dataframe tbody tr th {\n",
       "        vertical-align: top;\n",
       "    }\n",
       "\n",
       "    .dataframe thead th {\n",
       "        text-align: right;\n",
       "    }\n",
       "</style>\n",
       "<table border=\"1\" class=\"dataframe\">\n",
       "  <thead>\n",
       "    <tr style=\"text-align: right;\">\n",
       "      <th></th>\n",
       "      <th>Email address</th>\n",
       "      <th>First name</th>\n",
       "      <th>Last name</th>\n",
       "    </tr>\n",
       "  </thead>\n",
       "  <tbody>\n",
       "    <tr>\n",
       "      <th>0</th>\n",
       "      <td>markschultz700@example.com</td>\n",
       "      <td>Mark</td>\n",
       "      <td>Schultz</td>\n",
       "    </tr>\n",
       "    <tr>\n",
       "      <th>1</th>\n",
       "      <td>allisonrogers784@example.com</td>\n",
       "      <td>Allison</td>\n",
       "      <td>Rogers</td>\n",
       "    </tr>\n",
       "    <tr>\n",
       "      <th>2</th>\n",
       "      <td>denisecardenas@corporation.org</td>\n",
       "      <td>Denise</td>\n",
       "      <td>Cardenas</td>\n",
       "    </tr>\n",
       "    <tr>\n",
       "      <th>3</th>\n",
       "      <td>danielpotter886@corporation.org</td>\n",
       "      <td>Daniel</td>\n",
       "      <td>Potter</td>\n",
       "    </tr>\n",
       "    <tr>\n",
       "      <th>4</th>\n",
       "      <td>noahchambers47@corporation.org</td>\n",
       "      <td>Noah</td>\n",
       "      <td>Chambers</td>\n",
       "    </tr>\n",
       "  </tbody>\n",
       "</table>\n",
       "</div>"
      ],
      "text/plain": [
       "                     Email address First name Last name\n",
       "0       markschultz700@example.com       Mark   Schultz\n",
       "1     allisonrogers784@example.com    Allison    Rogers\n",
       "2   denisecardenas@corporation.org     Denise  Cardenas\n",
       "3  danielpotter886@corporation.org     Daniel    Potter\n",
       "4   noahchambers47@corporation.org       Noah  Chambers"
      ]
     },
     "execution_count": 48,
     "metadata": {},
     "output_type": "execute_result"
    }
   ],
   "source": [
    "personal_inf = clean_df[[\"Email address\", \"First name\", \"Last name\"]]\n",
    "personal_inf.head()"
   ]
  },
  {
   "cell_type": "code",
   "execution_count": 49,
   "id": "6756016c-17b8-42d3-89b7-44ba0645154f",
   "metadata": {},
   "outputs": [
    {
     "name": "stdout",
     "output_type": "stream",
     "text": [
      "<class 'pandas.core.frame.DataFrame'>\n",
      "RangeIndex: 408 entries, 0 to 407\n",
      "Data columns (total 3 columns):\n",
      " #   Column         Non-Null Count  Dtype \n",
      "---  ------         --------------  ----- \n",
      " 0   Email address  408 non-null    object\n",
      " 1   First name     408 non-null    object\n",
      " 2   Last name      408 non-null    object\n",
      "dtypes: object(3)\n",
      "memory usage: 9.7+ KB\n"
     ]
    }
   ],
   "source": [
    "personal_inf.info()"
   ]
  },
  {
   "cell_type": "code",
   "execution_count": 50,
   "id": "951e61be-231d-4470-ba7c-5415db6a09bb",
   "metadata": {},
   "outputs": [
    {
     "data": {
      "text/plain": [
       "teamID\n",
       "81    5\n",
       "80    5\n",
       "79    5\n",
       "78    5\n",
       "77    5\n",
       "     ..\n",
       "5     5\n",
       "4     5\n",
       "3     6\n",
       "2     6\n",
       "1     6\n",
       "Name: count, Length: 81, dtype: int64"
      ]
     },
     "execution_count": 50,
     "metadata": {},
     "output_type": "execute_result"
    }
   ],
   "source": [
    "grouped_df = pd.merge(personal_inf, data, left_index=True, right_index=True, how=\"inner\")\n",
    "\n",
    "grouped_df[\"teamID\"].value_counts().sort_index(ascending=False)"
   ]
  },
  {
   "cell_type": "code",
   "execution_count": 51,
   "id": "091c7042-b7fd-495a-b38e-227a0655d005",
   "metadata": {},
   "outputs": [
    {
     "data": {
      "text/html": [
       "<div>\n",
       "<style scoped>\n",
       "    .dataframe tbody tr th:only-of-type {\n",
       "        vertical-align: middle;\n",
       "    }\n",
       "\n",
       "    .dataframe tbody tr th {\n",
       "        vertical-align: top;\n",
       "    }\n",
       "\n",
       "    .dataframe thead th {\n",
       "        text-align: right;\n",
       "    }\n",
       "</style>\n",
       "<table border=\"1\" class=\"dataframe\">\n",
       "  <thead>\n",
       "    <tr style=\"text-align: right;\">\n",
       "      <th></th>\n",
       "      <th>Email address</th>\n",
       "      <th>First name</th>\n",
       "      <th>Last name</th>\n",
       "      <th>gender</th>\n",
       "      <th>course</th>\n",
       "      <th>proficiency</th>\n",
       "      <th>cluster</th>\n",
       "      <th>teamID</th>\n",
       "    </tr>\n",
       "  </thead>\n",
       "  <tbody>\n",
       "    <tr>\n",
       "      <th>77</th>\n",
       "      <td>judyashley2463@corporation.org</td>\n",
       "      <td>Judy</td>\n",
       "      <td>Ashley</td>\n",
       "      <td>female</td>\n",
       "      <td>data science</td>\n",
       "      <td>Novice</td>\n",
       "      <td>4</td>\n",
       "      <td>81</td>\n",
       "    </tr>\n",
       "    <tr>\n",
       "      <th>163</th>\n",
       "      <td>susangraham@example.com</td>\n",
       "      <td>Susan</td>\n",
       "      <td>Graham</td>\n",
       "      <td>female</td>\n",
       "      <td>data science</td>\n",
       "      <td>Novice</td>\n",
       "      <td>4</td>\n",
       "      <td>81</td>\n",
       "    </tr>\n",
       "    <tr>\n",
       "      <th>192</th>\n",
       "      <td>davidmiller764@example.com</td>\n",
       "      <td>David</td>\n",
       "      <td>Miller</td>\n",
       "      <td>male</td>\n",
       "      <td>data science</td>\n",
       "      <td>Novice</td>\n",
       "      <td>2</td>\n",
       "      <td>81</td>\n",
       "    </tr>\n",
       "    <tr>\n",
       "      <th>261</th>\n",
       "      <td>sherryhayes@example.com</td>\n",
       "      <td>Sherry</td>\n",
       "      <td>Hayes</td>\n",
       "      <td>female</td>\n",
       "      <td>data analytics</td>\n",
       "      <td>Proficient</td>\n",
       "      <td>3</td>\n",
       "      <td>81</td>\n",
       "    </tr>\n",
       "    <tr>\n",
       "      <th>300</th>\n",
       "      <td>stuartroberts67@institution.edu</td>\n",
       "      <td>Stuart</td>\n",
       "      <td>Roberts</td>\n",
       "      <td>male</td>\n",
       "      <td>back-end wd</td>\n",
       "      <td>Proficient</td>\n",
       "      <td>0</td>\n",
       "      <td>81</td>\n",
       "    </tr>\n",
       "  </tbody>\n",
       "</table>\n",
       "</div>"
      ],
      "text/plain": [
       "                       Email address First name Last name  gender  \\\n",
       "77    judyashley2463@corporation.org       Judy    Ashley  female   \n",
       "163          susangraham@example.com      Susan    Graham  female   \n",
       "192       davidmiller764@example.com      David    Miller    male   \n",
       "261          sherryhayes@example.com     Sherry     Hayes  female   \n",
       "300  stuartroberts67@institution.edu     Stuart   Roberts    male   \n",
       "\n",
       "             course proficiency  cluster  teamID  \n",
       "77     data science      Novice        4      81  \n",
       "163    data science      Novice        4      81  \n",
       "192    data science      Novice        2      81  \n",
       "261  data analytics  Proficient        3      81  \n",
       "300     back-end wd  Proficient        0      81  "
      ]
     },
     "execution_count": 51,
     "metadata": {},
     "output_type": "execute_result"
    }
   ],
   "source": [
    "grouped_df[grouped_df[\"teamID\"] == 81]"
   ]
  },
  {
   "cell_type": "code",
   "execution_count": 52,
   "id": "c605300a-f1fc-4cc7-80da-40cf72cca583",
   "metadata": {},
   "outputs": [],
   "source": [
    "grouped_df = grouped_df.drop(\"cluster\", axis=\"columns\")"
   ]
  },
  {
   "cell_type": "code",
   "execution_count": 53,
   "id": "6192eedb-1766-4d03-a087-e97e13a60aca",
   "metadata": {},
   "outputs": [
    {
     "data": {
      "text/html": [
       "<div>\n",
       "<style scoped>\n",
       "    .dataframe tbody tr th:only-of-type {\n",
       "        vertical-align: middle;\n",
       "    }\n",
       "\n",
       "    .dataframe tbody tr th {\n",
       "        vertical-align: top;\n",
       "    }\n",
       "\n",
       "    .dataframe thead th {\n",
       "        text-align: right;\n",
       "    }\n",
       "</style>\n",
       "<table border=\"1\" class=\"dataframe\">\n",
       "  <thead>\n",
       "    <tr style=\"text-align: right;\">\n",
       "      <th></th>\n",
       "      <th>Email address</th>\n",
       "      <th>First name</th>\n",
       "      <th>Last name</th>\n",
       "      <th>gender</th>\n",
       "      <th>course</th>\n",
       "      <th>proficiency</th>\n",
       "      <th>teamID</th>\n",
       "    </tr>\n",
       "  </thead>\n",
       "  <tbody>\n",
       "    <tr>\n",
       "      <th>0</th>\n",
       "      <td>markschultz700@example.com</td>\n",
       "      <td>Mark</td>\n",
       "      <td>Schultz</td>\n",
       "      <td>male</td>\n",
       "      <td>data science</td>\n",
       "      <td>Novice</td>\n",
       "      <td>80</td>\n",
       "    </tr>\n",
       "    <tr>\n",
       "      <th>1</th>\n",
       "      <td>allisonrogers784@example.com</td>\n",
       "      <td>Allison</td>\n",
       "      <td>Rogers</td>\n",
       "      <td>female</td>\n",
       "      <td>data science</td>\n",
       "      <td>Novice</td>\n",
       "      <td>33</td>\n",
       "    </tr>\n",
       "    <tr>\n",
       "      <th>2</th>\n",
       "      <td>denisecardenas@corporation.org</td>\n",
       "      <td>Denise</td>\n",
       "      <td>Cardenas</td>\n",
       "      <td>female</td>\n",
       "      <td>data analytics</td>\n",
       "      <td>Novice</td>\n",
       "      <td>76</td>\n",
       "    </tr>\n",
       "    <tr>\n",
       "      <th>3</th>\n",
       "      <td>danielpotter886@corporation.org</td>\n",
       "      <td>Daniel</td>\n",
       "      <td>Potter</td>\n",
       "      <td>male</td>\n",
       "      <td>data science</td>\n",
       "      <td>Novice</td>\n",
       "      <td>42</td>\n",
       "    </tr>\n",
       "    <tr>\n",
       "      <th>4</th>\n",
       "      <td>noahchambers47@corporation.org</td>\n",
       "      <td>Noah</td>\n",
       "      <td>Chambers</td>\n",
       "      <td>male</td>\n",
       "      <td>data science</td>\n",
       "      <td>Novice</td>\n",
       "      <td>12</td>\n",
       "    </tr>\n",
       "  </tbody>\n",
       "</table>\n",
       "</div>"
      ],
      "text/plain": [
       "                     Email address First name Last name  gender  \\\n",
       "0       markschultz700@example.com       Mark   Schultz    male   \n",
       "1     allisonrogers784@example.com    Allison    Rogers  female   \n",
       "2   denisecardenas@corporation.org     Denise  Cardenas  female   \n",
       "3  danielpotter886@corporation.org     Daniel    Potter    male   \n",
       "4   noahchambers47@corporation.org       Noah  Chambers    male   \n",
       "\n",
       "           course proficiency  teamID  \n",
       "0    data science      Novice      80  \n",
       "1    data science      Novice      33  \n",
       "2  data analytics      Novice      76  \n",
       "3    data science      Novice      42  \n",
       "4    data science      Novice      12  "
      ]
     },
     "execution_count": 53,
     "metadata": {},
     "output_type": "execute_result"
    }
   ],
   "source": [
    "grouped_df.head()"
   ]
  },
  {
   "cell_type": "code",
   "execution_count": null,
   "id": "140bda0e-add8-47fa-a430-e7f3cd7fd581",
   "metadata": {},
   "outputs": [],
   "source": []
  }
 ],
 "metadata": {
  "kernelspec": {
   "display_name": "Python 3 (ipykernel)",
   "language": "python",
   "name": "python3"
  },
  "language_info": {
   "codemirror_mode": {
    "name": "ipython",
    "version": 3
   },
   "file_extension": ".py",
   "mimetype": "text/x-python",
   "name": "python",
   "nbconvert_exporter": "python",
   "pygments_lexer": "ipython3",
   "version": "3.11.10"
  }
 },
 "nbformat": 4,
 "nbformat_minor": 5
}
